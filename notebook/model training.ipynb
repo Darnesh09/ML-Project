{
 "cells": [
  {
   "cell_type": "code",
   "execution_count": 1,
   "metadata": {},
   "outputs": [],
   "source": [
    "import pandas as pd\n",
    "import matplotlib.pyplot as plt\n",
    "import seaborn as sns\n",
    "\n",
    "from sklearn.metrics import r2_score, mean_absolute_error, mean_squared_error\n",
    "from sklearn.neighbors import KNeighborsRegressor\n",
    "from sklearn.tree import DecisionTreeRegressor\n",
    "from sklearn.linear_model import LinearRegression,Ridge,Lasso\n",
    "from sklearn.model_selection import RandomizedSearchCV\n",
    "from sklearn.svm import SVR\n",
    "from sklearn.ensemble import RandomForestRegressor, AdaBoostRegressor\n",
    "from sklearn.preprocessing import StandardScaler,OneHotEncoder\n",
    "from sklearn.compose import ColumnTransformer\n",
    "from xgboost import XGBRegressor\n",
    "from catboost import CatBoostRegressor"
   ]
  },
  {
   "cell_type": "code",
   "execution_count": 2,
   "metadata": {},
   "outputs": [
    {
     "data": {
      "text/html": [
       "<div>\n",
       "<style scoped>\n",
       "    .dataframe tbody tr th:only-of-type {\n",
       "        vertical-align: middle;\n",
       "    }\n",
       "\n",
       "    .dataframe tbody tr th {\n",
       "        vertical-align: top;\n",
       "    }\n",
       "\n",
       "    .dataframe thead th {\n",
       "        text-align: right;\n",
       "    }\n",
       "</style>\n",
       "<table border=\"1\" class=\"dataframe\">\n",
       "  <thead>\n",
       "    <tr style=\"text-align: right;\">\n",
       "      <th></th>\n",
       "      <th>gender</th>\n",
       "      <th>race/ethnicity</th>\n",
       "      <th>parental level of education</th>\n",
       "      <th>lunch</th>\n",
       "      <th>test preparation course</th>\n",
       "      <th>math score</th>\n",
       "      <th>reading score</th>\n",
       "      <th>writing score</th>\n",
       "    </tr>\n",
       "  </thead>\n",
       "  <tbody>\n",
       "    <tr>\n",
       "      <th>0</th>\n",
       "      <td>female</td>\n",
       "      <td>group B</td>\n",
       "      <td>bachelor's degree</td>\n",
       "      <td>standard</td>\n",
       "      <td>none</td>\n",
       "      <td>72</td>\n",
       "      <td>72</td>\n",
       "      <td>74</td>\n",
       "    </tr>\n",
       "    <tr>\n",
       "      <th>1</th>\n",
       "      <td>female</td>\n",
       "      <td>group C</td>\n",
       "      <td>some college</td>\n",
       "      <td>standard</td>\n",
       "      <td>completed</td>\n",
       "      <td>69</td>\n",
       "      <td>90</td>\n",
       "      <td>88</td>\n",
       "    </tr>\n",
       "    <tr>\n",
       "      <th>2</th>\n",
       "      <td>female</td>\n",
       "      <td>group B</td>\n",
       "      <td>master's degree</td>\n",
       "      <td>standard</td>\n",
       "      <td>none</td>\n",
       "      <td>90</td>\n",
       "      <td>95</td>\n",
       "      <td>93</td>\n",
       "    </tr>\n",
       "    <tr>\n",
       "      <th>3</th>\n",
       "      <td>male</td>\n",
       "      <td>group A</td>\n",
       "      <td>associate's degree</td>\n",
       "      <td>free/reduced</td>\n",
       "      <td>none</td>\n",
       "      <td>47</td>\n",
       "      <td>57</td>\n",
       "      <td>44</td>\n",
       "    </tr>\n",
       "    <tr>\n",
       "      <th>4</th>\n",
       "      <td>male</td>\n",
       "      <td>group C</td>\n",
       "      <td>some college</td>\n",
       "      <td>standard</td>\n",
       "      <td>none</td>\n",
       "      <td>76</td>\n",
       "      <td>78</td>\n",
       "      <td>75</td>\n",
       "    </tr>\n",
       "  </tbody>\n",
       "</table>\n",
       "</div>"
      ],
      "text/plain": [
       "   gender race/ethnicity parental level of education         lunch  \\\n",
       "0  female        group B           bachelor's degree      standard   \n",
       "1  female        group C                some college      standard   \n",
       "2  female        group B             master's degree      standard   \n",
       "3    male        group A          associate's degree  free/reduced   \n",
       "4    male        group C                some college      standard   \n",
       "\n",
       "  test preparation course  math score  reading score  writing score  \n",
       "0                    none          72             72             74  \n",
       "1               completed          69             90             88  \n",
       "2                    none          90             95             93  \n",
       "3                    none          47             57             44  \n",
       "4                    none          76             78             75  "
      ]
     },
     "execution_count": 2,
     "metadata": {},
     "output_type": "execute_result"
    }
   ],
   "source": [
    "df = pd.read_csv(\"data/StudentsPerformance.csv\")\n",
    "df.head()"
   ]
  },
  {
   "cell_type": "code",
   "execution_count": 3,
   "metadata": {},
   "outputs": [],
   "source": [
    "x = df.drop('math score',axis=1)\n",
    "y = df['math score']"
   ]
  },
  {
   "cell_type": "code",
   "execution_count": 4,
   "metadata": {},
   "outputs": [],
   "source": [
    "numerical_features = x.select_dtypes(exclude=object).columns\n",
    "categorical_features = x.select_dtypes(include=object).columns\n",
    "\n",
    "scaler = StandardScaler()\n",
    "encoder = OneHotEncoder()\n",
    "\n",
    "preprocessor = ColumnTransformer(transformers=[(\"OneHotEncoder\",encoder,categorical_features),('StandardScaler',scaler,numerical_features)])"
   ]
  },
  {
   "cell_type": "code",
   "execution_count": 5,
   "metadata": {},
   "outputs": [
    {
     "data": {
      "text/plain": [
       "array([[ 1.        ,  0.        ,  0.        , ...,  1.        ,\n",
       "         0.19399858,  0.39149181],\n",
       "       [ 1.        ,  0.        ,  0.        , ...,  0.        ,\n",
       "         1.42747598,  1.31326868],\n",
       "       [ 1.        ,  0.        ,  0.        , ...,  1.        ,\n",
       "         1.77010859,  1.64247471],\n",
       "       ...,\n",
       "       [ 1.        ,  0.        ,  0.        , ...,  0.        ,\n",
       "         0.12547206, -0.20107904],\n",
       "       [ 1.        ,  0.        ,  0.        , ...,  0.        ,\n",
       "         0.60515772,  0.58901542],\n",
       "       [ 1.        ,  0.        ,  0.        , ...,  1.        ,\n",
       "         1.15336989,  1.18158627]])"
      ]
     },
     "execution_count": 5,
     "metadata": {},
     "output_type": "execute_result"
    }
   ],
   "source": [
    "x = preprocessor.fit_transform(x)\n",
    "x"
   ]
  },
  {
   "cell_type": "code",
   "execution_count": 6,
   "metadata": {},
   "outputs": [
    {
     "data": {
      "text/plain": [
       "(1000, 19)"
      ]
     },
     "execution_count": 6,
     "metadata": {},
     "output_type": "execute_result"
    }
   ],
   "source": [
    "x.shape"
   ]
  },
  {
   "cell_type": "code",
   "execution_count": 7,
   "metadata": {},
   "outputs": [],
   "source": [
    "from sklearn.model_selection import train_test_split\n",
    "x_train,x_test,y_train,y_test = train_test_split(x,y,test_size=0.3,random_state=30)"
   ]
  },
  {
   "cell_type": "code",
   "execution_count": 8,
   "metadata": {},
   "outputs": [],
   "source": [
    "import numpy as np\n",
    "def evaluate_model(true,predicted):\n",
    "    mse = mean_squared_error(true,predicted)\n",
    "    mae = mean_absolute_error(true,predicted)\n",
    "    rmse = np.sqrt(mse)\n",
    "    r2Score = r2_score(true,predicted)\n",
    "    return mae,rmse,r2Score"
   ]
  },
  {
   "cell_type": "code",
   "execution_count": 9,
   "metadata": {},
   "outputs": [
    {
     "name": "stdout",
     "output_type": "stream",
     "text": [
      "Training set performance\n",
      "Model : Linear Regression\n",
      "Mean Absolute Error : 4.18\n",
      "Root Mean Squared Error : 4.18\n",
      "r2_Score : 0.88\n",
      "--------------------------------------------------\n",
      "Test set performance\n",
      "Mean Absolute Error : 4.42\n",
      "Root Mean Squared Error : 4.42\n",
      "r2_Score : 0.87\n",
      "==================================================\n",
      "\n",
      "\n",
      "Training set performance\n",
      "Model : Ridge\n",
      "Mean Absolute Error : 4.18\n",
      "Root Mean Squared Error : 4.18\n",
      "r2_Score : 0.88\n",
      "--------------------------------------------------\n",
      "Test set performance\n",
      "Mean Absolute Error : 4.43\n",
      "Root Mean Squared Error : 4.43\n",
      "r2_Score : 0.87\n",
      "==================================================\n",
      "\n",
      "\n",
      "Training set performance\n",
      "Model : Lasso\n",
      "Mean Absolute Error : 5.12\n",
      "Root Mean Squared Error : 5.12\n",
      "r2_Score : 0.82\n",
      "--------------------------------------------------\n",
      "Test set performance\n",
      "Mean Absolute Error : 5.29\n",
      "Root Mean Squared Error : 5.29\n",
      "r2_Score : 0.81\n",
      "==================================================\n",
      "\n",
      "\n",
      "Training set performance\n",
      "Model : SVR\n",
      "Mean Absolute Error : 4.99\n",
      "Root Mean Squared Error : 4.99\n",
      "r2_Score : 0.79\n",
      "--------------------------------------------------\n",
      "Test set performance\n",
      "Mean Absolute Error : 5.33\n",
      "Root Mean Squared Error : 5.33\n",
      "r2_Score : 0.76\n",
      "==================================================\n",
      "\n",
      "\n",
      "Training set performance\n",
      "Model : Decision Tree Regressor\n",
      "Mean Absolute Error : 0.02\n",
      "Root Mean Squared Error : 0.02\n",
      "r2_Score : 1.00\n",
      "--------------------------------------------------\n",
      "Test set performance\n",
      "Mean Absolute Error : 6.85\n",
      "Root Mean Squared Error : 6.85\n",
      "r2_Score : 0.67\n",
      "==================================================\n",
      "\n",
      "\n",
      "Training set performance\n",
      "Model : Ada Boost Regressor\n",
      "Mean Absolute Error : 4.68\n",
      "Root Mean Squared Error : 4.68\n",
      "r2_Score : 0.86\n",
      "--------------------------------------------------\n",
      "Test set performance\n",
      "Mean Absolute Error : 5.03\n",
      "Root Mean Squared Error : 5.03\n",
      "r2_Score : 0.82\n",
      "==================================================\n",
      "\n",
      "\n",
      "Training set performance\n",
      "Model : XGB Regressor\n",
      "Mean Absolute Error : 0.53\n",
      "Root Mean Squared Error : 0.53\n",
      "r2_Score : 1.00\n",
      "--------------------------------------------------\n",
      "Test set performance\n",
      "Mean Absolute Error : 5.03\n",
      "Root Mean Squared Error : 5.03\n",
      "r2_Score : 0.82\n",
      "==================================================\n",
      "\n",
      "\n",
      "Training set performance\n",
      "Model : Cat Boost Regressor\n",
      "Mean Absolute Error : 2.22\n",
      "Root Mean Squared Error : 2.22\n",
      "r2_Score : 0.97\n",
      "--------------------------------------------------\n",
      "Test set performance\n",
      "Mean Absolute Error : 4.85\n",
      "Root Mean Squared Error : 4.85\n",
      "r2_Score : 0.84\n",
      "==================================================\n",
      "\n",
      "\n",
      "Training set performance\n",
      "Model : KNeighbors Regressor\n",
      "Mean Absolute Error : 4.52\n",
      "Root Mean Squared Error : 4.52\n",
      "r2_Score : 0.86\n",
      "--------------------------------------------------\n",
      "Test set performance\n",
      "Mean Absolute Error : 5.75\n",
      "Root Mean Squared Error : 5.75\n",
      "r2_Score : 0.78\n",
      "==================================================\n",
      "\n",
      "\n",
      "Training set performance\n",
      "Model : Random Forest Regressor\n",
      "Mean Absolute Error : 1.83\n",
      "Root Mean Squared Error : 1.83\n",
      "r2_Score : 0.98\n",
      "--------------------------------------------------\n",
      "Test set performance\n",
      "Mean Absolute Error : 4.85\n",
      "Root Mean Squared Error : 4.85\n",
      "r2_Score : 0.84\n",
      "==================================================\n",
      "\n",
      "\n"
     ]
    }
   ],
   "source": [
    "models = {\n",
    "    'Linear Regression' : LinearRegression(),\n",
    "    'Ridge' : Ridge(),\n",
    "    'Lasso' : Lasso(),\n",
    "    'SVR' : SVR(),\n",
    "    'Decision Tree Regressor' : DecisionTreeRegressor(),\n",
    "    'Ada Boost Regressor' : AdaBoostRegressor(),\n",
    "    'XGB Regressor' : XGBRegressor(),\n",
    "    'Cat Boost Regressor' : CatBoostRegressor(verbose=False),\n",
    "    'KNeighbors Regressor' : KNeighborsRegressor(),\n",
    "    'Random Forest Regressor' : RandomForestRegressor()\n",
    "}\n",
    "\n",
    "model_list = []\n",
    "r2_list = []\n",
    "\n",
    "for i in range(len(models)):\n",
    "    model = list(models.values())[i]\n",
    "    model.fit(x_train,y_train)\n",
    "    train_pred = model.predict(x_train)\n",
    "    test_pred = model.predict(x_test)\n",
    "    model_list.append(list(models.keys())[i])\n",
    "    train_mae,train_rmse,train_r2Score = evaluate_model(y_train,train_pred)\n",
    "    test_mae,test_rmse,test_r2Score = evaluate_model(y_test,test_pred)\n",
    "    r2_list.append(test_r2Score)\n",
    "\n",
    "    print(\"Training set performance\")\n",
    "    print(f\"Model : {model_list[i]}\")\n",
    "    print(f\"Mean Absolute Error : {train_mae:.2f}\")\n",
    "    print(f\"Root Mean Squared Error : {train_mae:.2f}\")\n",
    "    print(f\"r2_Score : {train_r2Score:.2f}\")\n",
    "    print(\"-\"*50)\n",
    "    print(\"Test set performance\")\n",
    "    print(f\"Mean Absolute Error : {test_mae:.2f}\")\n",
    "    print(f\"Root Mean Squared Error : {test_mae:.2f}\")\n",
    "    print(f\"r2_Score : {test_r2Score:.2f}\")\n",
    "    print(\"=\"*50)\n",
    "    print(\"\\n\")"
   ]
  },
  {
   "cell_type": "code",
   "execution_count": 10,
   "metadata": {},
   "outputs": [
    {
     "data": {
      "text/html": [
       "<div>\n",
       "<style scoped>\n",
       "    .dataframe tbody tr th:only-of-type {\n",
       "        vertical-align: middle;\n",
       "    }\n",
       "\n",
       "    .dataframe tbody tr th {\n",
       "        vertical-align: top;\n",
       "    }\n",
       "\n",
       "    .dataframe thead th {\n",
       "        text-align: right;\n",
       "    }\n",
       "</style>\n",
       "<table border=\"1\" class=\"dataframe\">\n",
       "  <thead>\n",
       "    <tr style=\"text-align: right;\">\n",
       "      <th></th>\n",
       "      <th>Model</th>\n",
       "      <th>r2_Score</th>\n",
       "    </tr>\n",
       "  </thead>\n",
       "  <tbody>\n",
       "    <tr>\n",
       "      <th>0</th>\n",
       "      <td>Linear Regression</td>\n",
       "      <td>0.865689</td>\n",
       "    </tr>\n",
       "    <tr>\n",
       "      <th>1</th>\n",
       "      <td>Ridge</td>\n",
       "      <td>0.865278</td>\n",
       "    </tr>\n",
       "    <tr>\n",
       "      <th>7</th>\n",
       "      <td>Cat Boost Regressor</td>\n",
       "      <td>0.838756</td>\n",
       "    </tr>\n",
       "    <tr>\n",
       "      <th>9</th>\n",
       "      <td>Random Forest Regressor</td>\n",
       "      <td>0.835442</td>\n",
       "    </tr>\n",
       "    <tr>\n",
       "      <th>6</th>\n",
       "      <td>XGB Regressor</td>\n",
       "      <td>0.824865</td>\n",
       "    </tr>\n",
       "    <tr>\n",
       "      <th>5</th>\n",
       "      <td>Ada Boost Regressor</td>\n",
       "      <td>0.824753</td>\n",
       "    </tr>\n",
       "    <tr>\n",
       "      <th>2</th>\n",
       "      <td>Lasso</td>\n",
       "      <td>0.805785</td>\n",
       "    </tr>\n",
       "    <tr>\n",
       "      <th>8</th>\n",
       "      <td>KNeighbors Regressor</td>\n",
       "      <td>0.775323</td>\n",
       "    </tr>\n",
       "    <tr>\n",
       "      <th>3</th>\n",
       "      <td>SVR</td>\n",
       "      <td>0.764959</td>\n",
       "    </tr>\n",
       "    <tr>\n",
       "      <th>4</th>\n",
       "      <td>Decision Tree Regressor</td>\n",
       "      <td>0.672294</td>\n",
       "    </tr>\n",
       "  </tbody>\n",
       "</table>\n",
       "</div>"
      ],
      "text/plain": [
       "                     Model  r2_Score\n",
       "0        Linear Regression  0.865689\n",
       "1                    Ridge  0.865278\n",
       "7      Cat Boost Regressor  0.838756\n",
       "9  Random Forest Regressor  0.835442\n",
       "6            XGB Regressor  0.824865\n",
       "5      Ada Boost Regressor  0.824753\n",
       "2                    Lasso  0.805785\n",
       "8     KNeighbors Regressor  0.775323\n",
       "3                      SVR  0.764959\n",
       "4  Decision Tree Regressor  0.672294"
      ]
     },
     "execution_count": 10,
     "metadata": {},
     "output_type": "execute_result"
    }
   ],
   "source": [
    "pd.DataFrame(list(zip(model_list,r2_list)),columns=['Model','r2_Score']).sort_values(by='r2_Score',ascending=False)"
   ]
  },
  {
   "cell_type": "code",
   "execution_count": 11,
   "metadata": {},
   "outputs": [
    {
     "name": "stdout",
     "output_type": "stream",
     "text": [
      "Accuracy : 86.57%\n"
     ]
    }
   ],
   "source": [
    "linear_model = LinearRegression()\n",
    "linear_model.fit(x_train,y_train)\n",
    "pred = linear_model.predict(x_test)\n",
    "print(f\"Accuracy : {r2_score(y_test,pred)*100:.2f}%\")"
   ]
  },
  {
   "cell_type": "code",
   "execution_count": 12,
   "metadata": {},
   "outputs": [
    {
     "data": {
      "text/plain": [
       "Text(0, 0.5, 'Predicted')"
      ]
     },
     "execution_count": 12,
     "metadata": {},
     "output_type": "execute_result"
    },
    {
     "data": {
      "image/png": "[encoded data removed]",
      "text/plain": [
       "<Figure size 640x480 with 1 Axes>"
      ]
     },
     "metadata": {},
     "output_type": "display_data"
    }
   ],
   "source": [
    "plt.scatter(x=y_test,y=pred)\n",
    "plt.xlabel(\"Actual\")\n",
    "plt.ylabel('Predicted')"
   ]
  },
  {
   "cell_type": "code",
   "execution_count": 13,
   "metadata": {},
   "outputs": [
    {
     "data": {
      "text/plain": [
       "<Axes: xlabel='math score'>"
      ]
     },
     "execution_count": 13,
     "metadata": {},
     "output_type": "execute_result"
    },
    {
     "data": {
      "image/png": "[encoded data removed]",
      "text/plain": [
       "<Figure size 640x480 with 1 Axes>"
      ]
     },
     "metadata": {},
     "output_type": "display_data"
    }
   ],
   "source": [
    "sns.regplot(x=y_test,y=pred)"
   ]
  },
  {
   "cell_type": "code",
   "execution_count": 14,
   "metadata": {},
   "outputs": [
    {
     "data": {
      "text/html": [
       "<div>\n",
       "<style scoped>\n",
       "    .dataframe tbody tr th:only-of-type {\n",
       "        vertical-align: middle;\n",
       "    }\n",
       "\n",
       "    .dataframe tbody tr th {\n",
       "        vertical-align: top;\n",
       "    }\n",
       "\n",
       "    .dataframe thead th {\n",
       "        text-align: right;\n",
       "    }\n",
       "</style>\n",
       "<table border=\"1\" class=\"dataframe\">\n",
       "  <thead>\n",
       "    <tr style=\"text-align: right;\">\n",
       "      <th></th>\n",
       "      <th>Actual Values</th>\n",
       "      <th>Predicted Values</th>\n",
       "      <th>Difference</th>\n",
       "    </tr>\n",
       "  </thead>\n",
       "  <tbody>\n",
       "    <tr>\n",
       "      <th>923</th>\n",
       "      <td>54</td>\n",
       "      <td>55.265625</td>\n",
       "      <td>-1.265625</td>\n",
       "    </tr>\n",
       "    <tr>\n",
       "      <th>921</th>\n",
       "      <td>35</td>\n",
       "      <td>39.046875</td>\n",
       "      <td>-4.046875</td>\n",
       "    </tr>\n",
       "    <tr>\n",
       "      <th>516</th>\n",
       "      <td>74</td>\n",
       "      <td>77.890625</td>\n",
       "      <td>-3.890625</td>\n",
       "    </tr>\n",
       "    <tr>\n",
       "      <th>87</th>\n",
       "      <td>71</td>\n",
       "      <td>66.406250</td>\n",
       "      <td>4.593750</td>\n",
       "    </tr>\n",
       "    <tr>\n",
       "      <th>879</th>\n",
       "      <td>64</td>\n",
       "      <td>67.671875</td>\n",
       "      <td>-3.671875</td>\n",
       "    </tr>\n",
       "    <tr>\n",
       "      <th>...</th>\n",
       "      <td>...</td>\n",
       "      <td>...</td>\n",
       "      <td>...</td>\n",
       "    </tr>\n",
       "    <tr>\n",
       "      <th>857</th>\n",
       "      <td>65</td>\n",
       "      <td>71.843750</td>\n",
       "      <td>-6.843750</td>\n",
       "    </tr>\n",
       "    <tr>\n",
       "      <th>782</th>\n",
       "      <td>76</td>\n",
       "      <td>69.234375</td>\n",
       "      <td>6.765625</td>\n",
       "    </tr>\n",
       "    <tr>\n",
       "      <th>598</th>\n",
       "      <td>69</td>\n",
       "      <td>67.390625</td>\n",
       "      <td>1.609375</td>\n",
       "    </tr>\n",
       "    <tr>\n",
       "      <th>93</th>\n",
       "      <td>43</td>\n",
       "      <td>49.515625</td>\n",
       "      <td>-6.515625</td>\n",
       "    </tr>\n",
       "    <tr>\n",
       "      <th>554</th>\n",
       "      <td>53</td>\n",
       "      <td>54.265625</td>\n",
       "      <td>-1.265625</td>\n",
       "    </tr>\n",
       "  </tbody>\n",
       "</table>\n",
       "<p>300 rows × 3 columns</p>\n",
       "</div>"
      ],
      "text/plain": [
       "     Actual Values  Predicted Values  Difference\n",
       "923             54         55.265625   -1.265625\n",
       "921             35         39.046875   -4.046875\n",
       "516             74         77.890625   -3.890625\n",
       "87              71         66.406250    4.593750\n",
       "879             64         67.671875   -3.671875\n",
       "..             ...               ...         ...\n",
       "857             65         71.843750   -6.843750\n",
       "782             76         69.234375    6.765625\n",
       "598             69         67.390625    1.609375\n",
       "93              43         49.515625   -6.515625\n",
       "554             53         54.265625   -1.265625\n",
       "\n",
       "[300 rows x 3 columns]"
      ]
     },
     "execution_count": 14,
     "metadata": {},
     "output_type": "execute_result"
    }
   ],
   "source": [
    "pd.DataFrame({'Actual Values':y_test,'Predicted Values':pred,'Difference':y_test-pred})"
   ]
  }
 ],
 "metadata": {
  "kernelspec": {
   "display_name": "Python 3.10.6 ('venv': venv)",
   "language": "python",
   "name": "python3"
  },
  "language_info": {
   "codemirror_mode": {
    "name": "ipython",
    "version": 3
   },
   "file_extension": ".py",
   "mimetype": "text/x-python",
   "name": "python",
   "nbconvert_exporter": "python",
   "pygments_lexer": "ipython3",
   "version": "3.10.6"
  },
  "orig_nbformat": 4,
  "vscode": {
   "interpreter": {
    "hash": "89d32ef4d33f13bef591d8e106a81826db61597d93d5c674a4b7feef3c388071"
   }
  }
 },
 "nbformat": 4,
 "nbformat_minor": 2
}
